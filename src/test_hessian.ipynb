{
 "cells": [
  {
   "cell_type": "code",
   "execution_count": 2,
   "id": "7d9d9181",
   "metadata": {},
   "outputs": [],
   "source": [
    "import torch\n",
    "import numpy as np\n",
    "import sys\n",
    "from latent_net import *"
   ]
  },
  {
   "cell_type": "code",
   "execution_count": 3,
   "id": "e68962ec",
   "metadata": {},
   "outputs": [],
   "source": [
    "from torch.autograd.functional import hessian"
   ]
  },
  {
   "cell_type": "code",
   "execution_count": 4,
   "id": "2542ca55",
   "metadata": {},
   "outputs": [],
   "source": [
    "def pow_reducer(x):\n",
    "    return x.pow(3).sum()"
   ]
  },
  {
   "cell_type": "code",
   "execution_count": 11,
   "id": "b3af5d69",
   "metadata": {},
   "outputs": [
    {
     "name": "stdout",
     "output_type": "stream",
     "text": [
      "tensor([[0.2024, 0.8144],\n",
      "        [0.2066, 0.1278]])\n"
     ]
    }
   ],
   "source": [
    "inputs = torch.rand(2, 2)\n",
    "print(inputs)"
   ]
  },
  {
   "cell_type": "code",
   "execution_count": 12,
   "id": "7e468ba2",
   "metadata": {},
   "outputs": [
    {
     "name": "stdout",
     "output_type": "stream",
     "text": [
      "tensor(0.5593)\n"
     ]
    }
   ],
   "source": [
    "print(pow_reducer(inputs))"
   ]
  },
  {
   "cell_type": "code",
   "execution_count": 13,
   "id": "846fa7ae",
   "metadata": {},
   "outputs": [
    {
     "data": {
      "text/plain": [
       "tensor([[[[1.2145, 0.0000],\n",
       "          [0.0000, 0.0000]],\n",
       "\n",
       "         [[0.0000, 4.8861],\n",
       "          [0.0000, 0.0000]]],\n",
       "\n",
       "\n",
       "        [[[0.0000, 0.0000],\n",
       "          [1.2396, 0.0000]],\n",
       "\n",
       "         [[0.0000, 0.0000],\n",
       "          [0.0000, 0.7670]]]])"
      ]
     },
     "execution_count": 13,
     "metadata": {},
     "output_type": "execute_result"
    }
   ],
   "source": [
    "hessian(pow_reducer, inputs)"
   ]
  },
  {
   "cell_type": "code",
   "execution_count": 9,
   "id": "1253bf5f",
   "metadata": {},
   "outputs": [],
   "source": [
    "a = np.array([1, 2, 3])\n",
    "b = np.array([3, 4, 5])\n",
    "\n",
    "a_n = a / np.linalg.norm(a)\n",
    "b_n = b / np.linalg.norm(b)"
   ]
  },
  {
   "cell_type": "code",
   "execution_count": 11,
   "id": "99376968",
   "metadata": {},
   "outputs": [
    {
     "data": {
      "text/plain": [
       "array([0.26726124, 0.53452248, 0.80178373])"
      ]
     },
     "execution_count": 11,
     "metadata": {},
     "output_type": "execute_result"
    }
   ],
   "source": [
    "a_n"
   ]
  },
  {
   "cell_type": "code",
   "execution_count": 12,
   "id": "a7b322ed",
   "metadata": {},
   "outputs": [
    {
     "data": {
      "text/plain": [
       "array([0.42426407, 0.56568542, 0.70710678])"
      ]
     },
     "execution_count": 12,
     "metadata": {},
     "output_type": "execute_result"
    }
   ],
   "source": [
    "b_n"
   ]
  },
  {
   "cell_type": "code",
   "execution_count": 10,
   "id": "a3c07eb7",
   "metadata": {},
   "outputs": [
    {
     "name": "stdout",
     "output_type": "stream",
     "text": [
      "[[0.07142857 0.03779645]\n",
      " [0.03779645 0.02      ]]\n"
     ]
    }
   ],
   "source": [
    "# np.corrcoef(a, b)\n",
    "\n",
    "print(np.cov(a_n, b_n))"
   ]
  },
  {
   "cell_type": "code",
   "execution_count": null,
   "id": "8db929e9",
   "metadata": {},
   "outputs": [],
   "source": []
  }
 ],
 "metadata": {
  "kernelspec": {
   "display_name": "lcm [~/.conda/envs/lcm/]",
   "language": "python",
   "name": "conda_lcm"
  },
  "language_info": {
   "codemirror_mode": {
    "name": "ipython",
    "version": 3
   },
   "file_extension": ".py",
   "mimetype": "text/x-python",
   "name": "python",
   "nbconvert_exporter": "python",
   "pygments_lexer": "ipython3",
   "version": "3.9.17"
  }
 },
 "nbformat": 4,
 "nbformat_minor": 5
}
